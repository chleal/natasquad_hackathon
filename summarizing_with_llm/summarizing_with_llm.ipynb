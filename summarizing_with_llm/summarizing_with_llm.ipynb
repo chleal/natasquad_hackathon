{
 "cells": [
  {
   "cell_type": "markdown",
   "id": "508b9645-3465-4a33-89e5-57b13e057522",
   "metadata": {},
   "source": [
    "# Summarizing whit LLM"
   ]
  },
  {
   "cell_type": "markdown",
   "id": "dd8fc241-fc4d-4987-a4ed-5e2d677ac032",
   "metadata": {},
   "source": [
    "### En este notebook se implementa una solución para el problema número 5 del Hackathon de NataSquad.\n",
    "#### -Crear un agente que reciba un fichero BibTex y devuelva un texto con los temas que se abordan en los documentos que recoge el .bib\n",
    "#### -Interactuar con el agente con el fin de obtener más información respecto a los artículos y autores. Por ejemplo: Obtener el nombre del autor con mayor índice h, o el artículo más relevante, o el link de descarga de un (o todos los) artículo(s) (siempre que se tenga acceso abierto), etc.\n"
   ]
  },
  {
   "cell_type": "markdown",
   "id": "6875a34f-66bc-4d94-bc60-0e9ca1a36622",
   "metadata": {},
   "source": [
    "#### Para trabajar, se creó una colección en Zotero con citas descargadas directamente de Google Scholar y de IEEE Xplorer. Se aclara ya que los gestores bibliográficos soportan otro tipo de referencias, como por ejemplo sitios web. Esta solución solo se probo con citas referidas a artículos, libros y similares."
   ]
  },
  {
   "cell_type": "markdown",
   "id": "eb355030-7b22-4b9a-8994-ff7a07dd4236",
   "metadata": {},
   "source": [
    "## Importar fichero BibTex y extraer los datos más significativos"
   ]
  },
  {
   "cell_type": "markdown",
   "id": "b66c9b91-e4d0-4756-a036-30f7b09badff",
   "metadata": {},
   "source": [
    "### Se utiliza la biblioteca _pybtex_ para parsear los datos del .bib "
   ]
  },
  {
   "cell_type": "code",
   "execution_count": 1,
   "id": "47ff5a46-ec7a-4709-9fc0-fc6ed89507ad",
   "metadata": {},
   "outputs": [],
   "source": [
    "from pybtex.database import parse_file\n",
    "\n",
    "#La función get_value es para manejar errores ocasionados por la no presencia de algún valor necesario. Por ejemplo: Las referencias\n",
    "#obtenidas de Google Scholar no añaden el abstract ,en IEEE Xplorer si dan la opción.\n",
    "def get_value(data, key):\n",
    "    try:\n",
    "        value = data[key]\n",
    "        return value\n",
    "    except KeyError as error:\n",
    "        return None\n",
    "\n",
    "#La función get_fst_author es para obtener el nombre del autor principal. Se obtiene de los metadatos del fichero .bib        \n",
    "def get_fst_author(data):\n",
    "    name = {}\n",
    "    name['name'] = data.first_names\n",
    "    name['last'] = data.last_names\n",
    "    return name\n",
    "\n",
    "path_to_file = 'bib_natasquad/bib_natasquad.bib'\n",
    "bib_data = parse_file(path_to_file)\n",
    "bib = []\n",
    "\n",
    "#El diccionario entry_data recoge los key:values fundamentales de una referencia bibliográfica para dar solución al problema planteado\n",
    "#Los valores que se les asigna None es porque no están presentes en el fichero .bib y/o se pueden \n",
    "#obtener con mayor facilidad con la API de OpenAlex\n",
    "\n",
    "for _, entry in bib_data.entries.items():\n",
    "    entry_data = {\n",
    "        'type': entry.type,\n",
    "        'title': entry.fields['title'],\n",
    "        'title_openalex': None,\n",
    "        'journal': get_value(entry.fields,'journal'),\n",
    "        'year': get_value(entry.fields, 'year'),\n",
    "        'abstract': get_value(entry.fields,'abstract'),\n",
    "        'authors': get_value(entry.persons, 'author'),\n",
    "        'name_first_author': None,\n",
    "        'openalex_id_first_author': None,\n",
    "        'relevance_first_author': None,\n",
    "        'h_index_first_author': None,\n",
    "        'i10_index_first_author': None,\n",
    "        'doi': get_value(entry.fields,'doi'),\n",
    "        'is_open_access': False,\n",
    "        'download_url': '',\n",
    "        'language': None,\n",
    "        'institution': None,\n",
    "        'country_code': None,\n",
    "        'cited_count': None,\n",
    "        'relevance_score': None \n",
    "    }\n",
    "    bib.append(entry_data)"
   ]
  },
  {
   "cell_type": "markdown",
   "id": "2948cc2f-cf2c-4815-af94-cea8e00d844c",
   "metadata": {},
   "source": [
    "## Una vez obtenidos los datos del fichero .bib se procede a completar los valores faltantes del diccionario _entry_data_"
   ]
  },
  {
   "cell_type": "markdown",
   "id": "8fb5df43-0409-4b2e-9759-451fc88be6af",
   "metadata": {},
   "source": [
    "### Se usa la API REST gratuita de OpenAlex _https://openalex.org_"
   ]
  },
  {
   "cell_type": "code",
   "execution_count": 2,
   "id": "5b715951-8ec5-48ab-9b01-45e9c83db17e",
   "metadata": {},
   "outputs": [],
   "source": [
    "#OpenAlex permite 100,000 consultas por dia por usuario. Las consultas realizadas son GET request y la respuesta es en formato JSON\n",
    "import requests    \n",
    "\n",
    " #Esta función elimina los '{' '}' que aparecen en algunos títulos obtenidos del fichero .bib. En caso que aparezcan otros caracteres no\n",
    "#deseados habrá que aumentar la funcionalidad para eliminarlos. En la colección estudiada sólo aparecen '{' '}' \n",
    "def clear_title(title):\n",
    "    title = title.replace('{','')\n",
    "    title = title.replace('}','')\n",
    "    return title\n",
    "    \n",
    "#La función check_doi es para detectar la presencia del doi en la consulta realizada a OpenAlex. Existen referencias a documentos \n",
    "#que no presentan el doi\n",
    "def check_doi(res_openalex):\n",
    "    if res_openalex['doi'] != None:\n",
    "        return True\n",
    "    else:\n",
    "        return False\n",
    "\n",
    "#OpenAlex entre los valores que devuelve no se encuentra el abstract pero si un índice invertido del abstract.\n",
    "#Esta función retorna el abstract en formato str a partir del abstract_inverted_index\n",
    "def get_abstarct(indice):\n",
    "    ks = list(indice.keys())\n",
    "    vs = list(indice.values())\n",
    "    a = []\n",
    "    for i in range(len(indice)):\n",
    "        for j in vs[i]:\n",
    "            a.insert(j, ks[i])\n",
    "    abstract = ' '.join(a)\n",
    "    return abstract\n",
    "\n",
    "filters = []\n",
    "\n",
    "#OpenAlex permite  agregar filtros a las consultas y concatenar varios filtros.\n",
    "#Las líneas de código que siguen se encargan de hacer consultas a la API con el fin de completar los valores faltantes en el diccionario \n",
    "#entry_data para cada referencia presente en el fichero BibTex\n",
    "\n",
    "url_req = \"https://api.openalex.org/works?filter=title.search:\"\n",
    "\n",
    "#Hacer un recorrido por cada referencia\n",
    "for i in range(len(bib)):\n",
    "\n",
    "    #Primero se obtienen datos del autor principal para, además de completar entry_data, realizar una búsqueda del artículo lo mas precisa \n",
    "    # posible con filtros del id del autor registrado en OpenAlex\n",
    "    fs = bib[i]['authors'][0].first_names[0]\n",
    "    sd = bib[i]['authors'][0].last_names[0]\n",
    "    fs_author_name = fs + ' ' + sd   \n",
    "\n",
    "    url_author = 'https://api.openalex.org/authors?search=' + fs_author_name\n",
    "    \n",
    "    res_author = requests.get(url_author).json()\n",
    "    author_json = res_author['results'][0]\n",
    "    \n",
    "    bib[i]['name_first_author'] = author_json['display_name']\n",
    "    bib[i]['openalex_id_first_author'] = author_json['id'][21:]\n",
    "    bib[i]['relevance_first_author'] = get_value(author_json,'relevance_score')\n",
    "    bib[i]['h_index_first_author'] = get_value(author_json['summary_stats'],'h_index')\n",
    "    bib[i]['i10_index_first_author'] = get_value(author_json['summary_stats'],'i10_index')\n",
    "\n",
    "    #La primera consulta para obtener información de los trabajos presenta filtros como:\n",
    "    #1-Texto presente en el título\n",
    "    #2-ID del autor principal en la base de datos de OpenAlex\n",
    "    #3-Si presenta doi\n",
    "    #El objetivo es obtener la respuesta más precisa \n",
    "    url = url_req + bib[i]['title'] + ',' + 'authorships.author.id:' +  bib[i]['openalex_id_first_author']+ ',' + 'has_doi:true'\n",
    "    res_openalex = requests.get(url).json()\n",
    "    \n",
    "    #Si el resultado de la consulta es 0 se limpia el título y solo se filtra por <texto que aparece en el título>\n",
    "    if res_openalex['meta']['count'] == 0:\n",
    "        bib[i]['title'] =  clear_title(bib[i]['title'])\n",
    "        url = url_req + bib[i]['title'] \n",
    "        res_openalex = requests.get(url).json()\n",
    "\n",
    "    #Escoger qué resultado de la API utilizar. Si retorna más de 1 trabajo comparar el título de los trabajos retornados con el título\n",
    "    #del trabajo que se está analizando\n",
    "    if res_openalex['meta']['count'] > 1:\n",
    "        for j in range(res_openalex['meta']['count']):\n",
    "            if res_openalex['results'][j]['title'] == bib[i]['title']:\n",
    "                res = res_openalex['results'][j]\n",
    "                break\n",
    "            else:\n",
    "                res = res_openalex['results'][0]\n",
    "                continue\n",
    "    elif res_openalex['meta']['count'] == 1:\n",
    "        res = res_openalex['results'][0]\n",
    "\n",
    "    bib[i]['title_openalex'] = res['title']\n",
    "    \n",
    "    #Con el resultado adecuado proporcionado por OpenAlex se procede a completar los valores faltantes correspondietes a la referencia\n",
    "    if bib[i]['doi'] == None:\n",
    "        if check_doi(res):\n",
    "            bib[i]['doi'] = res['doi'][16:]\n",
    "\n",
    "    if bib[i]['abstract'] == None:\n",
    "        if res['abstract_inverted_index'] != None:\n",
    "            bib[i]['abstract'] = get_abstarct(res['abstract_inverted_index'])\n",
    "\n",
    "    bib[i]['is_open_access'] = res['open_access']['is_oa']\n",
    "    if(bib[i]['is_open_access'] == True):\n",
    "        bib[i]['download_url'] = res['open_access']['oa_url']\n",
    "\n",
    "    bib[i]['language'] = res['language']    \n",
    "\n",
    "    if(len(res['authorships'][0]['institutions']) != 0):\n",
    "        bib[i]['institution'] = res['authorships'][0]['institutions'][0]['display_name']\n",
    "        bib[i]['country_code'] = res['authorships'][0]['institutions'][0]['country_code']\n",
    "\n",
    "    bib[i]['cited_count'] = res['cited_by_count']\n",
    "\n",
    "    bib[i]['relevance_score'] = res['relevance_score']"
   ]
  },
  {
   "cell_type": "markdown",
   "id": "12a4fca9-6cfe-475d-86cc-d82c2f2ca2e0",
   "metadata": {},
   "source": [
    "## Crear DataFrame a partir de una lista de diccionarios con la forma key:value de _entry_data_ \n",
    "### Se lleva a este formato porque se utilizará un framework (LlamaIndex) que permite conectar este tipo de datos con LLMs como los modelos GPT3.5 de OpenAI\n",
    "  "
   ]
  },
  {
   "cell_type": "markdown",
   "id": "40aa7c3a-587e-4783-ae56-640273f9774c",
   "metadata": {},
   "source": [
    "### Se utiliza la biblioteca pandas"
   ]
  },
  {
   "cell_type": "code",
   "execution_count": 3,
   "id": "a5f198a1-bac5-4bdc-ac53-7b7eb2e80243",
   "metadata": {},
   "outputs": [
    {
     "data": {
      "text/html": [
       "<div>\n",
       "<style scoped>\n",
       "    .dataframe tbody tr th:only-of-type {\n",
       "        vertical-align: middle;\n",
       "    }\n",
       "\n",
       "    .dataframe tbody tr th {\n",
       "        vertical-align: top;\n",
       "    }\n",
       "\n",
       "    .dataframe thead th {\n",
       "        text-align: right;\n",
       "    }\n",
       "</style>\n",
       "<table border=\"1\" class=\"dataframe\">\n",
       "  <thead>\n",
       "    <tr style=\"text-align: right;\">\n",
       "      <th></th>\n",
       "      <th>type</th>\n",
       "      <th>title</th>\n",
       "      <th>title_openalex</th>\n",
       "      <th>journal</th>\n",
       "      <th>year</th>\n",
       "      <th>abstract</th>\n",
       "      <th>authors</th>\n",
       "      <th>name_first_author</th>\n",
       "      <th>openalex_id_first_author</th>\n",
       "      <th>relevance_first_author</th>\n",
       "      <th>h_index_first_author</th>\n",
       "      <th>i10_index_first_author</th>\n",
       "      <th>doi</th>\n",
       "      <th>is_open_access</th>\n",
       "      <th>download_url</th>\n",
       "      <th>language</th>\n",
       "      <th>institution</th>\n",
       "      <th>country_code</th>\n",
       "      <th>cited_count</th>\n",
       "      <th>relevance_score</th>\n",
       "    </tr>\n",
       "  </thead>\n",
       "  <tbody>\n",
       "    <tr>\n",
       "      <th>0</th>\n",
       "      <td>article</td>\n",
       "      <td>Artificial neural networks enabled by nanophot...</td>\n",
       "      <td>Artificial neural networks enabled by nanophot...</td>\n",
       "      <td>Light: Science \\&amp; Applications</td>\n",
       "      <td>2019</td>\n",
       "      <td>Abstract The growing demands of brain science ...</td>\n",
       "      <td>[Zhang, Qiming, Yu, Haoyi, Barbiero, Martina, ...</td>\n",
       "      <td>Qiming Zhang</td>\n",
       "      <td>A5019450682</td>\n",
       "      <td>10920.4960</td>\n",
       "      <td>58</td>\n",
       "      <td>214</td>\n",
       "      <td>10.1038/s41377-019-0151-0</td>\n",
       "      <td>True</td>\n",
       "      <td>https://doi.org/10.1038/s41377-019-0151-0</td>\n",
       "      <td>en</td>\n",
       "      <td>RMIT University</td>\n",
       "      <td>AU</td>\n",
       "      <td>147</td>\n",
       "      <td>1493.363200</td>\n",
       "    </tr>\n",
       "    <tr>\n",
       "      <th>1</th>\n",
       "      <td>article</td>\n",
       "      <td>On the binding problem in artificial neural ne...</td>\n",
       "      <td>On the Binding Problem in Artificial Neural Ne...</td>\n",
       "      <td>arXiv preprint arXiv:2012.05208</td>\n",
       "      <td>2020</td>\n",
       "      <td>Contemporary neural networks still fall short ...</td>\n",
       "      <td>[Greff, Klaus, Van Steenkiste, Sjoerd, Schmidh...</td>\n",
       "      <td>Klaus Greff</td>\n",
       "      <td>A5082808731</td>\n",
       "      <td>6868.8545</td>\n",
       "      <td>17</td>\n",
       "      <td>20</td>\n",
       "      <td>10.48550/arxiv.2012.05208</td>\n",
       "      <td>True</td>\n",
       "      <td>http://arxiv.org/pdf/2012.05208</td>\n",
       "      <td>en</td>\n",
       "      <td>None</td>\n",
       "      <td>None</td>\n",
       "      <td>3</td>\n",
       "      <td>176.200270</td>\n",
       "    </tr>\n",
       "    <tr>\n",
       "      <th>2</th>\n",
       "      <td>article</td>\n",
       "      <td>Comprehensive review of artificial neural netw...</td>\n",
       "      <td>Comprehensive Review of Artificial Neural Netw...</td>\n",
       "      <td>IEEE access</td>\n",
       "      <td>2019</td>\n",
       "      <td>The era of artificial neural network (ANN) beg...</td>\n",
       "      <td>[Abiodun, Oludare Isaac, Jantan, Aman, Omolara...</td>\n",
       "      <td>Oludare Isaac Abiodun</td>\n",
       "      <td>A5050410057</td>\n",
       "      <td>1750.1735</td>\n",
       "      <td>8</td>\n",
       "      <td>8</td>\n",
       "      <td>10.1109/access.2019.2945545</td>\n",
       "      <td>True</td>\n",
       "      <td>https://doi.org/10.1109/access.2019.2945545</td>\n",
       "      <td>en</td>\n",
       "      <td>Universiti Sains Malaysia</td>\n",
       "      <td>MY</td>\n",
       "      <td>194</td>\n",
       "      <td>1916.792800</td>\n",
       "    </tr>\n",
       "    <tr>\n",
       "      <th>3</th>\n",
       "      <td>article</td>\n",
       "      <td>Artificial neural networks: A tutorial</td>\n",
       "      <td>Artificial neural networks: a tutorial</td>\n",
       "      <td>Computer</td>\n",
       "      <td>1996</td>\n",
       "      <td>Artificial neural nets (ANNs) are massively pa...</td>\n",
       "      <td>[Jain, Anil K., Mao, Jianchang, Mohiuddin, K. ...</td>\n",
       "      <td>Anil K. Jain</td>\n",
       "      <td>A5007029060</td>\n",
       "      <td>12709.4910</td>\n",
       "      <td>165</td>\n",
       "      <td>822</td>\n",
       "      <td>10.1109/2.485891</td>\n",
       "      <td>False</td>\n",
       "      <td></td>\n",
       "      <td>en</td>\n",
       "      <td>Michigan State University</td>\n",
       "      <td>US</td>\n",
       "      <td>2923</td>\n",
       "      <td>5839.766600</td>\n",
       "    </tr>\n",
       "    <tr>\n",
       "      <th>4</th>\n",
       "      <td>book</td>\n",
       "      <td>Fundamentals of artificial neural networks</td>\n",
       "      <td>Fundamentals of artificial neural networks</td>\n",
       "      <td>None</td>\n",
       "      <td>1995</td>\n",
       "      <td>None</td>\n",
       "      <td>[Hassoun, Mohamad H.]</td>\n",
       "      <td>Mohamad Rani Hassoun</td>\n",
       "      <td>A5053102906</td>\n",
       "      <td>NaN</td>\n",
       "      <td>0</td>\n",
       "      <td>0</td>\n",
       "      <td>10.1016/0021-9290(96)82229-9</td>\n",
       "      <td>False</td>\n",
       "      <td></td>\n",
       "      <td>en</td>\n",
       "      <td>University of Michigan–Ann Arbor</td>\n",
       "      <td>US</td>\n",
       "      <td>1</td>\n",
       "      <td>100.760635</td>\n",
       "    </tr>\n",
       "    <tr>\n",
       "      <th>5</th>\n",
       "      <td>article</td>\n",
       "      <td>Introduction to the artificial neural networks</td>\n",
       "      <td>Introduction to the Artificial Neural Networks</td>\n",
       "      <td>Artificial Neural Networks: Methodological Adv...</td>\n",
       "      <td>2011</td>\n",
       "      <td>An Artificial Neural Network (ANN) is a mathem...</td>\n",
       "      <td>[Krenker, Andrej, Bešter, Janez, Kos, Andrej]</td>\n",
       "      <td>Andrej Krenker</td>\n",
       "      <td>A5088808065</td>\n",
       "      <td>1359.0453</td>\n",
       "      <td>2</td>\n",
       "      <td>2</td>\n",
       "      <td>10.5772/15751</td>\n",
       "      <td>True</td>\n",
       "      <td>https://www.intechopen.com/citation-pdf-url/14881</td>\n",
       "      <td>en</td>\n",
       "      <td>None</td>\n",
       "      <td>None</td>\n",
       "      <td>118</td>\n",
       "      <td>997.785000</td>\n",
       "    </tr>\n",
       "    <tr>\n",
       "      <th>6</th>\n",
       "      <td>inproceedings</td>\n",
       "      <td>Extracting training data from large language m...</td>\n",
       "      <td>Extracting Training Data from Large Language M...</td>\n",
       "      <td>None</td>\n",
       "      <td>2021</td>\n",
       "      <td>It has become common to publish large (billion...</td>\n",
       "      <td>[Carlini, Nicholas, Tramer, Florian, Wallace, ...</td>\n",
       "      <td>Nicholas Carlini</td>\n",
       "      <td>A5034257647</td>\n",
       "      <td>9699.5990</td>\n",
       "      <td>38</td>\n",
       "      <td>55</td>\n",
       "      <td>10.48550/arxiv.2012.07805</td>\n",
       "      <td>True</td>\n",
       "      <td>http://arxiv.org/pdf/2012.07805</td>\n",
       "      <td>en</td>\n",
       "      <td>None</td>\n",
       "      <td>None</td>\n",
       "      <td>1</td>\n",
       "      <td>113.158195</td>\n",
       "    </tr>\n",
       "    <tr>\n",
       "      <th>7</th>\n",
       "      <td>article</td>\n",
       "      <td>Large language models in machine translation</td>\n",
       "      <td>Large Language Models in Machine Translation</td>\n",
       "      <td>None</td>\n",
       "      <td>2007</td>\n",
       "      <td>Systems, methods, and computer program product...</td>\n",
       "      <td>[Brants, Thorsten, Popat, Ashok C., Xu, Peng, ...</td>\n",
       "      <td>Thorsten Brants</td>\n",
       "      <td>A5076738898</td>\n",
       "      <td>6706.2010</td>\n",
       "      <td>26</td>\n",
       "      <td>40</td>\n",
       "      <td>None</td>\n",
       "      <td>False</td>\n",
       "      <td></td>\n",
       "      <td>en</td>\n",
       "      <td>Google (United States)</td>\n",
       "      <td>US</td>\n",
       "      <td>326</td>\n",
       "      <td>1940.008500</td>\n",
       "    </tr>\n",
       "    <tr>\n",
       "      <th>8</th>\n",
       "      <td>article</td>\n",
       "      <td>Deep learning</td>\n",
       "      <td>Deep learning</td>\n",
       "      <td>nature</td>\n",
       "      <td>2015</td>\n",
       "      <td>None</td>\n",
       "      <td>[LeCun, Yann, Bengio, Yoshua, Hinton, Geoffrey]</td>\n",
       "      <td>Yann LeCun</td>\n",
       "      <td>A5001226970</td>\n",
       "      <td>41925.7150</td>\n",
       "      <td>94</td>\n",
       "      <td>233</td>\n",
       "      <td>10.1038/nature14539</td>\n",
       "      <td>False</td>\n",
       "      <td></td>\n",
       "      <td>en</td>\n",
       "      <td>Meta (United States)</td>\n",
       "      <td>US</td>\n",
       "      <td>48137</td>\n",
       "      <td>11073.689000</td>\n",
       "    </tr>\n",
       "    <tr>\n",
       "      <th>9</th>\n",
       "      <td>book</td>\n",
       "      <td>Deep learning</td>\n",
       "      <td>Deep Learning with Differential Privacy</td>\n",
       "      <td>None</td>\n",
       "      <td>2016</td>\n",
       "      <td>Machine learning techniques based on neural ne...</td>\n",
       "      <td>[Goodfellow, Ian, Bengio, Yoshua, Courville, A...</td>\n",
       "      <td>Ian J. Goodfellow</td>\n",
       "      <td>A5004271128</td>\n",
       "      <td>8755.2720</td>\n",
       "      <td>66</td>\n",
       "      <td>114</td>\n",
       "      <td>10.1145/2976749.2978318</td>\n",
       "      <td>True</td>\n",
       "      <td>http://arxiv.org/pdf/1607.00133</td>\n",
       "      <td>en</td>\n",
       "      <td>Google (United States)</td>\n",
       "      <td>US</td>\n",
       "      <td>2517</td>\n",
       "      <td>2232.040500</td>\n",
       "    </tr>\n",
       "    <tr>\n",
       "      <th>10</th>\n",
       "      <td>article</td>\n",
       "      <td>Deep learning in agriculture: {A} survey</td>\n",
       "      <td>Deep learning in agriculture: A survey</td>\n",
       "      <td>Computers and electronics in agriculture</td>\n",
       "      <td>2018</td>\n",
       "      <td>Deep learning constitutes a recent, modern tec...</td>\n",
       "      <td>[Kamilaris, Andreas, Prenafeta-Boldú, Francesc...</td>\n",
       "      <td>Andreas Kamilaris</td>\n",
       "      <td>A5007428307</td>\n",
       "      <td>6221.5890</td>\n",
       "      <td>17</td>\n",
       "      <td>29</td>\n",
       "      <td>10.1016/j.compag.2018.02.016</td>\n",
       "      <td>True</td>\n",
       "      <td>http://arxiv.org/pdf/1807.11809</td>\n",
       "      <td>en</td>\n",
       "      <td>Institute for Research and Technology in Food ...</td>\n",
       "      <td>ES</td>\n",
       "      <td>1870</td>\n",
       "      <td>3726.808600</td>\n",
       "    </tr>\n",
       "    <tr>\n",
       "      <th>11</th>\n",
       "      <td>article</td>\n",
       "      <td>LSTM-CNN Architecture for Human Activity Recog...</td>\n",
       "      <td>LSTM-CNN Architecture for Human Activity Recog...</td>\n",
       "      <td>IEEE Access</td>\n",
       "      <td>2020</td>\n",
       "      <td>In the past years, traditional pattern recogni...</td>\n",
       "      <td>[Xia, Kun, Huang, Jianguang, Wang, Hanyu]</td>\n",
       "      <td>Kun Xia</td>\n",
       "      <td>A5049361243</td>\n",
       "      <td>7135.1074</td>\n",
       "      <td>48</td>\n",
       "      <td>223</td>\n",
       "      <td>10.1109/ACCESS.2020.2982225</td>\n",
       "      <td>True</td>\n",
       "      <td>https://doi.org/10.1109/access.2020.2982225</td>\n",
       "      <td>en</td>\n",
       "      <td>University of Shanghai for Science and Technology</td>\n",
       "      <td>CN</td>\n",
       "      <td>264</td>\n",
       "      <td>2155.644500</td>\n",
       "    </tr>\n",
       "    <tr>\n",
       "      <th>12</th>\n",
       "      <td>inproceedings</td>\n",
       "      <td>Real-time {Fault} {Diagnosis} of {Rotating} {M...</td>\n",
       "      <td>Real-time Fault Diagnosis of Rotating Machiner...</td>\n",
       "      <td>None</td>\n",
       "      <td>2018</td>\n",
       "      <td>Fast, accurate and robust fault diagnosis is a...</td>\n",
       "      <td>[Liu, Xingchen, Zhou, Qicai, Shen, Hehong]</td>\n",
       "      <td>Xingchen Liu</td>\n",
       "      <td>A5022298216</td>\n",
       "      <td>4521.0920</td>\n",
       "      <td>29</td>\n",
       "      <td>87</td>\n",
       "      <td>10.1109/ISCMI.2018.8703224</td>\n",
       "      <td>False</td>\n",
       "      <td></td>\n",
       "      <td>en</td>\n",
       "      <td>Tongji University</td>\n",
       "      <td>CN</td>\n",
       "      <td>3</td>\n",
       "      <td>328.084440</td>\n",
       "    </tr>\n",
       "  </tbody>\n",
       "</table>\n",
       "</div>"
      ],
      "text/plain": [
       "             type                                              title  \\\n",
       "0         article  Artificial neural networks enabled by nanophot...   \n",
       "1         article  On the binding problem in artificial neural ne...   \n",
       "2         article  Comprehensive review of artificial neural netw...   \n",
       "3         article             Artificial neural networks: A tutorial   \n",
       "4            book         Fundamentals of artificial neural networks   \n",
       "5         article     Introduction to the artificial neural networks   \n",
       "6   inproceedings  Extracting training data from large language m...   \n",
       "7         article       Large language models in machine translation   \n",
       "8         article                                      Deep learning   \n",
       "9            book                                      Deep learning   \n",
       "10        article           Deep learning in agriculture: {A} survey   \n",
       "11        article  LSTM-CNN Architecture for Human Activity Recog...   \n",
       "12  inproceedings  Real-time {Fault} {Diagnosis} of {Rotating} {M...   \n",
       "\n",
       "                                       title_openalex  \\\n",
       "0   Artificial neural networks enabled by nanophot...   \n",
       "1   On the Binding Problem in Artificial Neural Ne...   \n",
       "2   Comprehensive Review of Artificial Neural Netw...   \n",
       "3              Artificial neural networks: a tutorial   \n",
       "4          Fundamentals of artificial neural networks   \n",
       "5      Introduction to the Artificial Neural Networks   \n",
       "6   Extracting Training Data from Large Language M...   \n",
       "7        Large Language Models in Machine Translation   \n",
       "8                                       Deep learning   \n",
       "9             Deep Learning with Differential Privacy   \n",
       "10             Deep learning in agriculture: A survey   \n",
       "11  LSTM-CNN Architecture for Human Activity Recog...   \n",
       "12  Real-time Fault Diagnosis of Rotating Machiner...   \n",
       "\n",
       "                                              journal  year  \\\n",
       "0                      Light: Science \\& Applications  2019   \n",
       "1                     arXiv preprint arXiv:2012.05208  2020   \n",
       "2                                         IEEE access  2019   \n",
       "3                                            Computer  1996   \n",
       "4                                                None  1995   \n",
       "5   Artificial Neural Networks: Methodological Adv...  2011   \n",
       "6                                                None  2021   \n",
       "7                                                None  2007   \n",
       "8                                              nature  2015   \n",
       "9                                                None  2016   \n",
       "10           Computers and electronics in agriculture  2018   \n",
       "11                                        IEEE Access  2020   \n",
       "12                                               None  2018   \n",
       "\n",
       "                                             abstract  \\\n",
       "0   Abstract The growing demands of brain science ...   \n",
       "1   Contemporary neural networks still fall short ...   \n",
       "2   The era of artificial neural network (ANN) beg...   \n",
       "3   Artificial neural nets (ANNs) are massively pa...   \n",
       "4                                                None   \n",
       "5   An Artificial Neural Network (ANN) is a mathem...   \n",
       "6   It has become common to publish large (billion...   \n",
       "7   Systems, methods, and computer program product...   \n",
       "8                                                None   \n",
       "9   Machine learning techniques based on neural ne...   \n",
       "10  Deep learning constitutes a recent, modern tec...   \n",
       "11  In the past years, traditional pattern recogni...   \n",
       "12  Fast, accurate and robust fault diagnosis is a...   \n",
       "\n",
       "                                              authors      name_first_author  \\\n",
       "0   [Zhang, Qiming, Yu, Haoyi, Barbiero, Martina, ...           Qiming Zhang   \n",
       "1   [Greff, Klaus, Van Steenkiste, Sjoerd, Schmidh...            Klaus Greff   \n",
       "2   [Abiodun, Oludare Isaac, Jantan, Aman, Omolara...  Oludare Isaac Abiodun   \n",
       "3   [Jain, Anil K., Mao, Jianchang, Mohiuddin, K. ...           Anil K. Jain   \n",
       "4                               [Hassoun, Mohamad H.]   Mohamad Rani Hassoun   \n",
       "5       [Krenker, Andrej, Bešter, Janez, Kos, Andrej]         Andrej Krenker   \n",
       "6   [Carlini, Nicholas, Tramer, Florian, Wallace, ...       Nicholas Carlini   \n",
       "7   [Brants, Thorsten, Popat, Ashok C., Xu, Peng, ...        Thorsten Brants   \n",
       "8     [LeCun, Yann, Bengio, Yoshua, Hinton, Geoffrey]             Yann LeCun   \n",
       "9   [Goodfellow, Ian, Bengio, Yoshua, Courville, A...      Ian J. Goodfellow   \n",
       "10  [Kamilaris, Andreas, Prenafeta-Boldú, Francesc...      Andreas Kamilaris   \n",
       "11          [Xia, Kun, Huang, Jianguang, Wang, Hanyu]                Kun Xia   \n",
       "12         [Liu, Xingchen, Zhou, Qicai, Shen, Hehong]           Xingchen Liu   \n",
       "\n",
       "   openalex_id_first_author  relevance_first_author  h_index_first_author  \\\n",
       "0               A5019450682              10920.4960                    58   \n",
       "1               A5082808731               6868.8545                    17   \n",
       "2               A5050410057               1750.1735                     8   \n",
       "3               A5007029060              12709.4910                   165   \n",
       "4               A5053102906                     NaN                     0   \n",
       "5               A5088808065               1359.0453                     2   \n",
       "6               A5034257647               9699.5990                    38   \n",
       "7               A5076738898               6706.2010                    26   \n",
       "8               A5001226970              41925.7150                    94   \n",
       "9               A5004271128               8755.2720                    66   \n",
       "10              A5007428307               6221.5890                    17   \n",
       "11              A5049361243               7135.1074                    48   \n",
       "12              A5022298216               4521.0920                    29   \n",
       "\n",
       "    i10_index_first_author                           doi  is_open_access  \\\n",
       "0                      214     10.1038/s41377-019-0151-0            True   \n",
       "1                       20     10.48550/arxiv.2012.05208            True   \n",
       "2                        8   10.1109/access.2019.2945545            True   \n",
       "3                      822              10.1109/2.485891           False   \n",
       "4                        0  10.1016/0021-9290(96)82229-9           False   \n",
       "5                        2                 10.5772/15751            True   \n",
       "6                       55     10.48550/arxiv.2012.07805            True   \n",
       "7                       40                          None           False   \n",
       "8                      233           10.1038/nature14539           False   \n",
       "9                      114       10.1145/2976749.2978318            True   \n",
       "10                      29  10.1016/j.compag.2018.02.016            True   \n",
       "11                     223   10.1109/ACCESS.2020.2982225            True   \n",
       "12                      87    10.1109/ISCMI.2018.8703224           False   \n",
       "\n",
       "                                         download_url language  \\\n",
       "0           https://doi.org/10.1038/s41377-019-0151-0       en   \n",
       "1                     http://arxiv.org/pdf/2012.05208       en   \n",
       "2         https://doi.org/10.1109/access.2019.2945545       en   \n",
       "3                                                           en   \n",
       "4                                                           en   \n",
       "5   https://www.intechopen.com/citation-pdf-url/14881       en   \n",
       "6                     http://arxiv.org/pdf/2012.07805       en   \n",
       "7                                                           en   \n",
       "8                                                           en   \n",
       "9                     http://arxiv.org/pdf/1607.00133       en   \n",
       "10                    http://arxiv.org/pdf/1807.11809       en   \n",
       "11        https://doi.org/10.1109/access.2020.2982225       en   \n",
       "12                                                          en   \n",
       "\n",
       "                                          institution country_code  \\\n",
       "0                                     RMIT University           AU   \n",
       "1                                                None         None   \n",
       "2                           Universiti Sains Malaysia           MY   \n",
       "3                           Michigan State University           US   \n",
       "4                    University of Michigan–Ann Arbor           US   \n",
       "5                                                None         None   \n",
       "6                                                None         None   \n",
       "7                              Google (United States)           US   \n",
       "8                                Meta (United States)           US   \n",
       "9                              Google (United States)           US   \n",
       "10  Institute for Research and Technology in Food ...           ES   \n",
       "11  University of Shanghai for Science and Technology           CN   \n",
       "12                                  Tongji University           CN   \n",
       "\n",
       "    cited_count  relevance_score  \n",
       "0           147      1493.363200  \n",
       "1             3       176.200270  \n",
       "2           194      1916.792800  \n",
       "3          2923      5839.766600  \n",
       "4             1       100.760635  \n",
       "5           118       997.785000  \n",
       "6             1       113.158195  \n",
       "7           326      1940.008500  \n",
       "8         48137     11073.689000  \n",
       "9          2517      2232.040500  \n",
       "10         1870      3726.808600  \n",
       "11          264      2155.644500  \n",
       "12            3       328.084440  "
      ]
     },
     "execution_count": 3,
     "metadata": {},
     "output_type": "execute_result"
    }
   ],
   "source": [
    "import pandas as pd\n",
    "\n",
    "df = pd.DataFrame(bib)\n",
    "df"
   ]
  },
  {
   "cell_type": "markdown",
   "id": "b9fac05f-b101-4097-b641-9ac5dc59c83e",
   "metadata": {},
   "source": [
    "## Como se va hacer uso de las APIs que proporciona OpenAI de manera directa, usando la biblioteca openai, y también a través del framework LlamaIndex es necesario una API KEY"
   ]
  },
  {
   "cell_type": "code",
   "execution_count": 4,
   "id": "d146fe7c-be35-4023-9cea-08689c2ae84a",
   "metadata": {},
   "outputs": [],
   "source": [
    "import os\n",
    "import openai\n",
    "\n",
    "OPENAI_API_KEY = os.getenv('OPENAI_API_KEY')\n",
    "openai.api_key = OPENAI_API_KEY\n"
   ]
  },
  {
   "cell_type": "markdown",
   "id": "ca9eb174-b731-4565-89de-bc62719feebc",
   "metadata": {},
   "source": [
    "#### Para generar el resumen se parte del abstract de cada referencia (en caso que lo presente). Se usa el módulo __*Completion*__, el abstract se utiliza como __*promt*__ de entrada al modelo _text-davinci-003_. Al __*promt*__ se le adiciona una \"instrucción\" para que el modelo ejecute sobre el abstract. Se le pone como límite un máximo de 50 tokens en la respuesta para moderar el consumo y se pone una __*temperature*__ igual a 0 para obtener respuestas poco aleatorias\n"
   ]
  },
  {
   "cell_type": "code",
   "execution_count": 5,
   "id": "1fa14256-059e-44d2-945f-69cf4b7dbfdb",
   "metadata": {},
   "outputs": [],
   "source": [
    "out_openai = []\n",
    "a_null = df['abstract'].isnull()\n",
    "for i in a_null.keys():\n",
    "    if a_null.values[i]:\n",
    "        out_openai.append('Without Abstract')\n",
    "    else:\n",
    "        output = openai.Completion.create(\n",
    "                        model=\"text-davinci-003\",\n",
    "                        prompt=df['abstract'][i] + '\\n\\n Summarize in one sentence the central idea of the text:',\n",
    "                        max_tokens=50,\n",
    "                        temperature=0\n",
    "                    )\n",
    "        out_openai.append(output['choices'][0]['text'][2:])"
   ]
  },
  {
   "cell_type": "code",
   "execution_count": 6,
   "id": "660d6e44-f52f-4655-ab44-c92e0e484ed3",
   "metadata": {},
   "outputs": [
    {
     "name": "stdout",
     "output_type": "stream",
     "text": [
      "Title: Artificial neural networks enabled by nanophotonics\n",
      "Summary: Nanophotonics has enabled the development of neural networks that can mimic the structural, functional, and biological features of human networks.\n",
      "=================================================================================\n",
      "\n",
      "Title: On the Binding Problem in Artificial Neural Networks\n",
      "Summary: The central idea of this paper is to propose a unifying framework for neural networks to enable them to acquire a compositional understanding of the world through symbolic processing and grounded representations.\n",
      "=================================================================================\n",
      "\n",
      "Title: Comprehensive Review of Artificial Neural Network Applications to Pattern Recognition\n",
      "Summary: The text discusses the progress made in Artificial Neural Network (ANN) applications in Pattern Recognition (PR) and the need for further research to address existing challenges and enable more successes.\n",
      "=================================================================================\n",
      "\n",
      "Title: Artificial neural networks: a tutorial\n",
      "Summary: The development of Artificial Neural Nets (ANNs) is motivated by the desire to replicate the biological neuron in a computational model, and has been successfully applied to tasks such as character recognition.\n",
      "=================================================================================\n",
      "\n",
      "Title: Fundamentals of artificial neural networks\n",
      "Summary: Without Abstract\n",
      "=================================================================================\n",
      "\n",
      "Title: Introduction to the Artificial Neural Networks\n",
      "Summary: The central idea of the text is that an Artificial Neural Network is a mathematical model that attempts to replicate the structure and functions of biological neural networks.\n",
      "=================================================================================\n",
      "\n",
      "Title: Extracting Training Data from Large Language Models\n",
      "Summary: This paper demonstrates that an adversary can use a training data extraction attack to recover individual examples from large language models trained on private datasets, even when each training example only includes one document.\n",
      "=================================================================================\n",
      "\n",
      "Title: Large Language Models in Machine Translation\n",
      "Summary: The systems, methods, and computer program products provided enable machine translation by using a language model that includes a collection of n-grams from a corpus, each n-gram having a corresponding relative frequency and backoff score.\n",
      "=================================================================================\n",
      "\n",
      "Title: Deep learning\n",
      "Summary: Without Abstract\n",
      "=================================================================================\n",
      "\n",
      "Title: Deep Learning with Differential Privacy\n",
      "Summary: Our implementation of differential privacy algorithms allows for the training of deep learning models with non-convex objectives while preserving privacy and maintaining efficiency, model quality, and manageable cost and software complexity.\n",
      "=================================================================================\n",
      "\n",
      "Title: Deep learning in agriculture: A survey\n",
      "Summary: Deep learning has been successfully applied to agricultural food production challenges, providing high accuracy and outperforming existing techniques.\n",
      "=================================================================================\n",
      "\n",
      "Title: LSTM-CNN Architecture for Human Activity Recognition\n",
      "Summary: The proposed deep neural network model combining convolutional layers with long short-term memory (LSTM) achieved high accuracy in activity recognition, while having fewer parameters and higher robustness than other reported results.\n",
      "=================================================================================\n",
      "\n",
      "Title: Real-time Fault Diagnosis of Rotating Machinery Using 1-D Convolutional Neural Network\n",
      "Summary: The proposed 1-D convolutional neural network based rotating machinery diagnosis method is fast, accurate and robust, and suitable for real-time diagnosis applications.\n",
      "=================================================================================\n",
      "\n"
     ]
    }
   ],
   "source": [
    "for i in range(len(out_openai)):\n",
    "    print(\"Title: {}\".format(df['title_openalex'][i]))\n",
    "    print(\"Summary: {}\".format(out_openai[i]))\n",
    "    print('=================================================================================\\n')\n"
   ]
  },
  {
   "cell_type": "markdown",
   "id": "4bb14f67-0277-4791-8846-56795ea81710",
   "metadata": {},
   "source": [
    "\n",
    "## Retrieval Augmented Generation (RAG) es un paradigma para aumentar los LLM con datos personalizados. \n",
    "### <pre>__Generalmente consiste en dos etapas:__</pre><pre>1. indexado: prepara la base de conocimiento, y</pre> <pre>2. consulta: recuperar el contexto relevante del conocimiento para ayudar al LLM a responder una pregunta</pre> \n",
    "<img src=\"rag.jpg\" alt=\"drawing\" style=\"width:600px;\"/>\n",
    "\n",
    "##### https://gpt-index.readthedocs.io/en/latest/getting_started/concepts.html"
   ]
  },
  {
   "cell_type": "markdown",
   "id": "10cb9011-c252-4102-a31e-4e52136ab541",
   "metadata": {},
   "source": [
    "## Para la interacción con los datos se usa el framework LlamaIndex, que permite conectar datos estructurados, semi-estructurados y no estructurados a LLM como los GPT de OpenAI. LlamaIndex a traves de los modelos de OpenAI convierte las consultas realizadas en lenguaje natural a consultas del DataFrame para obtener la respuesta deseada (En este caso de uso, tiene muchas otras funcionalidades). "
   ]
  },
  {
   "cell_type": "markdown",
   "id": "7bce6f5d-9ded-4d48-bd13-32ab9fbcfc45",
   "metadata": {},
   "source": [
    "### Se utiliza un Query Engine con el objetivo de crear un asistente de pregunta-respuesta. Específicamente se utiliza el Pandas Query Engine, el cual permite pasarle un DataFrame y hacerle consultas en lenguaje natural "
   ]
  },
  {
   "cell_type": "code",
   "execution_count": 7,
   "id": "6aff942a-a25e-43de-a80d-f7de19e88c08",
   "metadata": {},
   "outputs": [],
   "source": [
    "from llama_index.query_engine import PandasQueryEngine\n",
    "\n",
    "query_engine = PandasQueryEngine(df=df)"
   ]
  },
  {
   "cell_type": "markdown",
   "id": "a39ea8ea-e2eb-4187-860a-bb9487d52076",
   "metadata": {},
   "source": [
    "### Realizar un ciclo infinito esperando una entrada en lenguaje natural por parte del usuario y se imprime la respuesta generada basada en los datos del fichero .bib "
   ]
  },
  {
   "cell_type": "code",
   "execution_count": null,
   "id": "e2e86ec7-fbff-4e3d-9ec8-1eebdb616835",
   "metadata": {},
   "outputs": [
    {
     "data": {
      "text/markdown": [
       "<b>Ask me about the BibTex file:</b>"
      ],
      "text/plain": [
       "<IPython.core.display.Markdown object>"
      ]
     },
     "metadata": {},
     "output_type": "display_data"
    },
    {
     "name": "stdin",
     "output_type": "stream",
     "text": [
      " cuantos trabajos hay\n"
     ]
    },
    {
     "name": "stdout",
     "output_type": "stream",
     "text": [
      "len(df)\n"
     ]
    },
    {
     "data": {
      "text/markdown": [
       "><b>13</b>"
      ],
      "text/plain": [
       "<IPython.core.display.Markdown object>"
      ]
     },
     "metadata": {},
     "output_type": "display_data"
    },
    {
     "data": {
      "text/markdown": [
       "<b>Ask me about the BibTex file:</b>"
      ],
      "text/plain": [
       "<IPython.core.display.Markdown object>"
      ]
     },
     "metadata": {},
     "output_type": "display_data"
    },
    {
     "name": "stdin",
     "output_type": "stream",
     "text": [
      " cuantos articulos\n"
     ]
    },
    {
     "name": "stdout",
     "output_type": "stream",
     "text": [
      "len(df[df['type'] == 'article'])\n"
     ]
    },
    {
     "data": {
      "text/markdown": [
       "><b>9</b>"
      ],
      "text/plain": [
       "<IPython.core.display.Markdown object>"
      ]
     },
     "metadata": {},
     "output_type": "display_data"
    },
    {
     "data": {
      "text/markdown": [
       "<b>Ask me about the BibTex file:</b>"
      ],
      "text/plain": [
       "<IPython.core.display.Markdown object>"
      ]
     },
     "metadata": {},
     "output_type": "display_data"
    },
    {
     "name": "stdin",
     "output_type": "stream",
     "text": [
      " cual es el autor mas relevante segun su indice h\n"
     ]
    },
    {
     "name": "stdout",
     "output_type": "stream",
     "text": [
      "df.sort_values(by='h_index_first_author', ascending=False).iloc[0]['name_first_author']\n"
     ]
    },
    {
     "data": {
      "text/markdown": [
       "><b>Anil K. Jain</b>"
      ],
      "text/plain": [
       "<IPython.core.display.Markdown object>"
      ]
     },
     "metadata": {},
     "output_type": "display_data"
    },
    {
     "data": {
      "text/markdown": [
       "<b>Ask me about the BibTex file:</b>"
      ],
      "text/plain": [
       "<IPython.core.display.Markdown object>"
      ]
     },
     "metadata": {},
     "output_type": "display_data"
    },
    {
     "name": "stdin",
     "output_type": "stream",
     "text": [
      " cual es el doi del articulo de Anil K. Jain\n"
     ]
    },
    {
     "name": "stdout",
     "output_type": "stream",
     "text": [
      "df[df['name_first_author'] == 'Anil K. Jain']['doi'].iloc[0]\n"
     ]
    },
    {
     "data": {
      "text/markdown": [
       "><b>10.1109/2.485891</b>"
      ],
      "text/plain": [
       "<IPython.core.display.Markdown object>"
      ]
     },
     "metadata": {},
     "output_type": "display_data"
    },
    {
     "data": {
      "text/markdown": [
       "<b>Ask me about the BibTex file:</b>"
      ],
      "text/plain": [
       "<IPython.core.display.Markdown object>"
      ]
     },
     "metadata": {},
     "output_type": "display_data"
    },
    {
     "name": "stdin",
     "output_type": "stream",
     "text": [
      " el articulo con doi 10.1109/2.485891 se puede descargar\n"
     ]
    },
    {
     "name": "stdout",
     "output_type": "stream",
     "text": [
      "df[df['doi'] == '10.1109/2.485891']['download_url'].iloc[0]\n"
     ]
    },
    {
     "data": {
      "text/markdown": [
       "><b></b>"
      ],
      "text/plain": [
       "<IPython.core.display.Markdown object>"
      ]
     },
     "metadata": {},
     "output_type": "display_data"
    },
    {
     "data": {
      "text/markdown": [
       "<b>Ask me about the BibTex file:</b>"
      ],
      "text/plain": [
       "<IPython.core.display.Markdown object>"
      ]
     },
     "metadata": {},
     "output_type": "display_data"
    },
    {
     "name": "stdin",
     "output_type": "stream",
     "text": [
      " el articulo con doi 10.1109/2.485891 es de libre acceso\n"
     ]
    },
    {
     "name": "stdout",
     "output_type": "stream",
     "text": [
      "df[df['doi'] == '10.1109/2.485891']['is_open_access'].iloc[0]\n"
     ]
    },
    {
     "data": {
      "text/markdown": [
       "><b>False</b>"
      ],
      "text/plain": [
       "<IPython.core.display.Markdown object>"
      ]
     },
     "metadata": {},
     "output_type": "display_data"
    },
    {
     "data": {
      "text/markdown": [
       "<b>Ask me about the BibTex file:</b>"
      ],
      "text/plain": [
       "<IPython.core.display.Markdown object>"
      ]
     },
     "metadata": {},
     "output_type": "display_data"
    },
    {
     "name": "stdin",
     "output_type": "stream",
     "text": [
      " que articulos puedo descargar\n"
     ]
    },
    {
     "name": "stdout",
     "output_type": "stream",
     "text": [
      "df[df['download_url'] != ''][['title', 'download_url']]\n"
     ]
    },
    {
     "data": {
      "text/markdown": [
       "><b>                                                title  \\\n",
       "0   Artificial neural networks enabled by nanophot...   \n",
       "1   On the binding problem in artificial neural ne...   \n",
       "2   Comprehensive review of artificial neural netw...   \n",
       "5      Introduction to the artificial neural networks   \n",
       "6   Extracting training data from large language m...   \n",
       "9                                       Deep learning   \n",
       "10           Deep learning in agriculture: {A} survey   \n",
       "11  LSTM-CNN Architecture for Human Activity Recog...   \n",
       "\n",
       "                                         download_url  \n",
       "0           https://doi.org/10.1038/s41377-019-0151-0  \n",
       "1                     http://arxiv.org/pdf/2012.05208  \n",
       "2         https://doi.org/10.1109/access.2019.2945545  \n",
       "5   https://www.intechopen.com/citation-pdf-url/14881  \n",
       "6                     http://arxiv.org/pdf/2012.07805  \n",
       "9                     http://arxiv.org/pdf/1607.00133  \n",
       "10                    http://arxiv.org/pdf/1807.11809  \n",
       "11        https://doi.org/10.1109/access.2020.2982225  </b>"
      ],
      "text/plain": [
       "<IPython.core.display.Markdown object>"
      ]
     },
     "metadata": {},
     "output_type": "display_data"
    },
    {
     "data": {
      "text/markdown": [
       "<b>Ask me about the BibTex file:</b>"
      ],
      "text/plain": [
       "<IPython.core.display.Markdown object>"
      ]
     },
     "metadata": {},
     "output_type": "display_data"
    }
   ],
   "source": [
    "from IPython.display import Markdown, display\n",
    "while(True):\n",
    "    display(Markdown(f\"<b>{'Ask me about the BibTex file:'}</b>\"))\n",
    "    user_search = input()\n",
    "    res = query_engine.query(user_search)\n",
    "    display(Markdown(f\"><b>{res.response}</b>\"))"
   ]
  }
 ],
 "metadata": {
  "kernelspec": {
   "display_name": "Python 3 (ipykernel)",
   "language": "python",
   "name": "python3"
  },
  "language_info": {
   "codemirror_mode": {
    "name": "ipython",
    "version": 3
   },
   "file_extension": ".py",
   "mimetype": "text/x-python",
   "name": "python",
   "nbconvert_exporter": "python",
   "pygments_lexer": "ipython3",
   "version": "3.11.2"
  }
 },
 "nbformat": 4,
 "nbformat_minor": 5
}
